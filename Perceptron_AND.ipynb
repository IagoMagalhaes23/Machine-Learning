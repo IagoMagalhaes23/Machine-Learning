{
  "nbformat": 4,
  "nbformat_minor": 0,
  "metadata": {
    "colab": {
      "name": "Perceptron_AND.ipynb",
      "provenance": [],
      "collapsed_sections": [],
      "authorship_tag": "ABX9TyM+LQ+k4yi3xglRCd/9fX0C",
      "include_colab_link": true
    },
    "kernelspec": {
      "name": "python3",
      "display_name": "Python 3"
    },
    "accelerator": "GPU"
  },
  "cells": [
    {
      "cell_type": "markdown",
      "metadata": {
        "id": "view-in-github",
        "colab_type": "text"
      },
      "source": [
        "<a href=\"https://colab.research.google.com/github/IagoMagalhaes23/Machine-Learning/blob/main/Perceptron_AND.ipynb\" target=\"_parent\"><img src=\"https://colab.research.google.com/assets/colab-badge.svg\" alt=\"Open In Colab\"/></a>"
      ]
    },
    {
      "cell_type": "code",
      "metadata": {
        "id": "qAk6oqXEgWyQ"
      },
      "source": [
        "#Importação de bibliotecas\n",
        "import numpy as np\n",
        "import matplotlib.pyplot as mp\n",
        "import random"
      ],
      "execution_count": null,
      "outputs": []
    },
    {
      "cell_type": "code",
      "metadata": {
        "id": "LgfvN_XmlEFA"
      },
      "source": [
        "#Função de ativação, StepFunction\n",
        "def step(soma):\n",
        "  if(soma >= 1):\n",
        "    return 1\n",
        "  return 0"
      ],
      "execution_count": null,
      "outputs": []
    },
    {
      "cell_type": "code",
      "metadata": {
        "id": "-RBDlHSxpujp"
      },
      "source": [
        "#Função de treinamento\n",
        "def treinar(entradas, saidas, pesos, taxaAprendizagem):\n",
        "  erroTotal = 1\n",
        "  historico = []\n",
        "  while(erroTotal != 0):\n",
        "    erroTotal = 0\n",
        "    for i in range(len(saidas)):\n",
        "      soma = np.dot(entradas[i], pesos)\n",
        "      respostaCalculada = step(soma)\n",
        "      erro = saidas[i] - respostaCalculada\n",
        "      erroTotal += erro\n",
        "      historico.append(erro)\n",
        "      for j in range(len(pesos)):\n",
        "        pesos[j] = pesos[j] + (taxaAprendizagem * entradas[i][j] * erro)\n",
        "    \n",
        "    print('Valor erro: ' + str(erroTotal))\n",
        "\n",
        "  mp.plot(historico)\n",
        "  mp.title('Progressão do erro')\n",
        "  mp.xlabel('epocas')\n",
        "  mp.ylabel('Erro')\n",
        "  print(historico)"
      ],
      "execution_count": null,
      "outputs": []
    },
    {
      "cell_type": "code",
      "metadata": {
        "id": "yRCYAV9ev0Em"
      },
      "source": [
        "#Função para prever saídas\n",
        "def saida(r, pesos):\n",
        "  s = r.dot(pesos)\n",
        "  return step(s)"
      ],
      "execution_count": null,
      "outputs": []
    },
    {
      "cell_type": "code",
      "metadata": {
        "id": "oSpMwYg6ofdw",
        "colab": {
          "base_uri": "https://localhost:8080/",
          "height": 513
        },
        "outputId": "ef2f728a-2dd5-4ea6-a54f-dcf1fb2acc1d"
      },
      "source": [
        "#Main\n",
        "entradas = np.array([\n",
        "                     [0, 0],\n",
        "                     [0, 1],\n",
        "                     [1, 0],\n",
        "                     [1, 1]\n",
        "])\n",
        "\n",
        "saidas = np.array([0, 1, 1, 1])\n",
        "\n",
        "pesos = np.array([0.0, 0.0])\n",
        "taxaAprendizagem = 0.1\n",
        "\n",
        "treinar(entradas, saidas, pesos, taxaAprendizagem)\n",
        "\n",
        "print(saida(entradas[2], pesos))"
      ],
      "execution_count": null,
      "outputs": [
        {
          "output_type": "stream",
          "text": [
            "Valor erro: 3\n",
            "Valor erro: 3\n",
            "Valor erro: 2\n",
            "Valor erro: 2\n",
            "Valor erro: 2\n",
            "Valor erro: 2\n",
            "Valor erro: 2\n",
            "Valor erro: 2\n",
            "Valor erro: 2\n",
            "Valor erro: 0\n",
            "[0, 1, 1, 1, 0, 1, 1, 1, 0, 1, 1, 0, 0, 1, 1, 0, 0, 1, 1, 0, 0, 1, 1, 0, 0, 1, 1, 0, 0, 1, 1, 0, 0, 1, 1, 0, 0, 0, 0, 0]\n",
            "1\n"
          ],
          "name": "stdout"
        },
        {
          "output_type": "display_data",
          "data": {
            "image/png": "[encoded data removed]",
            "text/plain": [
              "<Figure size 432x288 with 1 Axes>"
            ]
          },
          "metadata": {
            "tags": [],
            "needs_background": "light"
          }
        }
      ]
    }
  ]
}